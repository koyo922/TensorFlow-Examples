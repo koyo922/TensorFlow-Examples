{
 "cells": [
  {
   "cell_type": "markdown",
   "metadata": {},
   "source": [
    "# My exercise of MLP for MNIST"
   ]
  },
  {
   "cell_type": "code",
   "execution_count": 1,
   "metadata": {},
   "outputs": [
    {
     "name": "stdout",
     "output_type": "stream",
     "text": [
      "Extracting MNIST_data/train-images-idx3-ubyte.gz\n",
      "Extracting MNIST_data/train-labels-idx1-ubyte.gz\n",
      "Extracting MNIST_data/t10k-images-idx3-ubyte.gz\n",
      "Extracting MNIST_data/t10k-labels-idx1-ubyte.gz\n"
     ]
    }
   ],
   "source": [
    "import tensorflow as tf\n",
    "from tensorflow.examples.tutorials.mnist import input_data\n",
    "mnist = input_data.read_data_sets('MNIST_data/', one_hot=True)"
   ]
  },
  {
   "cell_type": "code",
   "execution_count": 2,
   "metadata": {
    "collapsed": true
   },
   "outputs": [],
   "source": [
    "# hyper parameters\n",
    "n_input = 28 ** 2\n",
    "n_layer1 = 256\n",
    "n_layer2 = 256\n",
    "n_label = 10\n",
    "\n",
    "learning_rate = 0.001\n",
    "batch_size = 128\n",
    "n_epoch = 15\n",
    "display_per_epoch = 1"
   ]
  },
  {
   "cell_type": "code",
   "execution_count": 22,
   "metadata": {},
   "outputs": [],
   "source": [
    "# define MLP\n",
    "weights = {\n",
    "    'h1': tf.Variable(tf.random_normal([n_input, n_layer1])),\n",
    "    'h2': tf.Variable(tf.random_normal([n_layer1, n_layer2])),\n",
    "    'out': tf.Variable(tf.random_normal([n_layer2, n_label]))\n",
    "}\n",
    "\n",
    "biases = {\n",
    "    'h1': tf.Variable(tf.random_normal([n_layer1])),\n",
    "    'h2': tf.Variable(tf.random_normal([n_layer2])),\n",
    "    'out': tf.Variable(tf.random_normal([n_label]))\n",
    "}\n",
    "\n",
    "x = tf.placeholder('float', [None, n_input])\n",
    "y = tf.placeholder('float', [None, n_label])\n",
    "\n",
    "layer1 = tf.matmul(x, weights['h1']) + biases['h1']\n",
    "layer1 = tf.nn.relu(layer1)\n",
    "layer2 = tf.matmul(layer1, weights['h2']) + biases['h2']\n",
    "layer2 = tf.nn.relu(layer2)\n",
    "pred = tf.matmul(layer2, weights['out']) + biases['out']\n",
    "\n",
    "cost = tf.reduce_mean(tf.nn.softmax_cross_entropy_with_logits(logits=pred, labels=y))\n",
    "\n",
    "optimizer = tf.train.AdamOptimizer(learning_rate=learning_rate).minimize(cost)"
   ]
  },
  {
   "cell_type": "code",
   "execution_count": 24,
   "metadata": {},
   "outputs": [
    {
     "name": "stdout",
     "output_type": "stream",
     "text": [
      "Epoch=0001, cost = 165.694061279\n",
      "Epoch=0002, cost = 43.874183655\n",
      "Epoch=0003, cost = 28.677154541\n",
      "Epoch=0004, cost = 20.203235626\n",
      "Epoch=0005, cost = 15.119401932\n",
      "Epoch=0006, cost = 11.513390541\n",
      "Epoch=0007, cost = 8.851198196\n",
      "Epoch=0008, cost = 6.844130993\n",
      "Epoch=0009, cost = 5.283704281\n",
      "Epoch=0010, cost = 4.062216282\n",
      "Epoch=0011, cost = 3.204838991\n",
      "Epoch=0012, cost = 2.344624281\n",
      "Epoch=0013, cost = 1.827739716\n",
      "Epoch=0014, cost = 1.396134615\n",
      "Epoch=0015, cost = 1.084728479\n",
      "training finished\n",
      "Accuracy@test: 0.940500021\n"
     ]
    }
   ],
   "source": [
    "# train\n",
    "import numpy as np\n",
    "with tf.Session() as sess:\n",
    "    sess.run(tf.global_variables_initializer())\n",
    "    \n",
    "    for epoch in range(n_epoch):\n",
    "        costs = []\n",
    "        # train each mini-batch\n",
    "        for mini_batch in range(int(mnist.train.num_examples/batch_size)+1):\n",
    "            batch_x, batch_y = mnist.train.next_batch(batch_size)\n",
    "            _, batch_cost = sess.run([optimizer, cost], feed_dict={x: batch_x, y: batch_y})\n",
    "            costs.append(batch_cost)\n",
    "        if epoch % display_per_epoch == 0:\n",
    "            print('Epoch=%04d, cost = %.9f' % (epoch+1, np.mean(costs)))\n",
    "    print('training finished')\n",
    "    \n",
    "    # test accuracy\n",
    "    correct_pred = tf.equal(tf.argmax(pred, 1), tf.argmax(y, 1))\n",
    "    accuracy = tf.reduce_mean(tf.cast(correct_pred, 'float'))\n",
    "    print('Accuracy@test: %.9f' % accuracy.eval({x: mnist.test.images, y: mnist.test.labels}))"
   ]
  },
  {
   "cell_type": "markdown",
   "metadata": {},
   "source": [
    "# use tflearn below"
   ]
  },
  {
   "cell_type": "code",
   "execution_count": 12,
   "metadata": {},
   "outputs": [
    {
     "name": "stdout",
     "output_type": "stream",
     "text": [
      "Extracting MNIST_data/train-images-idx3-ubyte.gz\n",
      "Extracting MNIST_data/train-labels-idx1-ubyte.gz\n",
      "Extracting MNIST_data/t10k-images-idx3-ubyte.gz\n",
      "Extracting MNIST_data/t10k-labels-idx1-ubyte.gz\n"
     ]
    }
   ],
   "source": [
    "import tflearn\n",
    "import tflearn.datasets.mnist as mnist_tflearn\n",
    "\n",
    "trainX, trainY, testX, testY = mnist_tflearn.load_data('MNIST_data',one_hot=True)"
   ]
  },
  {
   "cell_type": "code",
   "execution_count": 19,
   "metadata": {},
   "outputs": [
    {
     "name": "stdout",
     "output_type": "stream",
     "text": [
      "Training Step: 5804  | total loss: \u001b[1m\u001b[32m0.33323\u001b[0m\u001b[0m | time: 4.726s\n",
      "| Adam | epoch: 015 | loss: 0.33323 - acc: 0.9734 -- iter: 49408/49500\n",
      "Training Step: 5805  | total loss: \u001b[1m\u001b[32m0.30500\u001b[0m\u001b[0m | time: 5.744s\n",
      "| Adam | epoch: 015 | loss: 0.30500 - acc: 0.9760 | val_loss: 0.11207 - val_acc: 0.9700 -- iter: 49500/49500\n",
      "--\n"
     ]
    }
   ],
   "source": [
    "tf.reset_default_graph()\n",
    "net = tflearn.input_data([None, n_input])\n",
    "net = tflearn.fully_connected(net, n_layer1, activation='ReLU')\n",
    "net = tflearn.fully_connected(net, n_layer2, activation='ReLU')\n",
    "net = tflearn.fully_connected(net, n_label, activation='softmax')\n",
    "net = tflearn.regression(net,\n",
    "                         loss='categorical_crossentropy',\n",
    "                         optimizer='adam',\n",
    "                         learning_rate=learning_rate)\n",
    "model = tflearn.DNN(net)\n",
    "\n",
    "model.fit(trainX, trainY,\n",
    "         validation_set = 0.1, batch_size=batch_size, n_epoch = n_epoch,\n",
    "         show_metric=True)"
   ]
  },
  {
   "cell_type": "code",
   "execution_count": 20,
   "metadata": {},
   "outputs": [
    {
     "name": "stdout",
     "output_type": "stream",
     "text": [
      "test_accuracy: 0.974200\n"
     ]
    }
   ],
   "source": [
    "pred = np.argmax(model.predict(testX), axis=1)\n",
    "actual = testY.argmax(axis=1)\n",
    "test_accuracy = np.mean(pred==actual,  axis=0)\n",
    "print('test_accuracy: %.6f' % test_accuracy)"
   ]
  },
  {
   "cell_type": "code",
   "execution_count": null,
   "metadata": {
    "collapsed": true
   },
   "outputs": [],
   "source": []
  }
 ],
 "metadata": {
  "kernelspec": {
   "display_name": "Python [conda root]",
   "language": "python",
   "name": "conda-root-py"
  },
  "language_info": {
   "codemirror_mode": {
    "name": "ipython",
    "version": 3
   },
   "file_extension": ".py",
   "mimetype": "text/x-python",
   "name": "python",
   "nbconvert_exporter": "python",
   "pygments_lexer": "ipython3",
   "version": "3.5.2"
  }
 },
 "nbformat": 4,
 "nbformat_minor": 2
}
